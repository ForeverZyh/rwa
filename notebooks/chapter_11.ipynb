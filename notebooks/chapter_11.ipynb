{
 "cells": [
  {
   "cell_type": "markdown",
   "metadata": {
    "slideshow": {
     "slide_type": "slide"
    }
   },
   "source": [
    "# Brute Forces, Secretaries, and Dichotomies\n",
    "\n",
    "* Chapter 11 of [Real World Algorithms](https://mitpress.mit.edu/books/real-world-algorithms).\n",
    "\n",
    "---\n",
    "\n",
    "> Panos Louridas<br />\n",
    "> Athens University of Economics and Business"
   ]
  },
  {
   "cell_type": "markdown",
   "metadata": {
    "slideshow": {
     "slide_type": "slide"
    }
   },
   "source": [
    "## Sequential Search\n",
    "\n",
    "* Sequential search is perhaps the most straightforward search method.\n",
    "\n",
    "* We start from the beginning and check each item in turn until we find the one we want.\n",
    "\n",
    "* It can be used for both sorted and unsorted data, but there are much better methods for sorted data.\n",
    "\n",
    "* Here is a straightforward implementation:"
   ]
  },
  {
   "cell_type": "code",
   "execution_count": 1,
   "metadata": {
    "collapsed": true,
    "slideshow": {
     "slide_type": "slide"
    }
   },
   "outputs": [],
   "source": [
    "def sequential_search(a, s):\n",
    "    for i, element in enumerate(a):\n",
    "        if element == s:\n",
    "            return i\n",
    "    return -1"
   ]
  },
  {
   "cell_type": "markdown",
   "metadata": {
    "slideshow": {
     "slide_type": "slide"
    }
   },
   "source": [
    "* Let's check it on a random list:"
   ]
  },
  {
   "cell_type": "code",
   "execution_count": 2,
   "metadata": {
    "slideshow": {
     "slide_type": "fragment"
    }
   },
   "outputs": [
    {
     "name": "stdout",
     "output_type": "stream",
     "text": [
      "314 found at 166\n",
      "-1\n"
     ]
    }
   ],
   "source": [
    "import random\n",
    "\n",
    "a = list(range(1000))\n",
    "random.shuffle(a)\n",
    "\n",
    "pos = sequential_search(a, 314)\n",
    "print(a[pos], 'found at', pos)\n",
    "\n",
    "pos = sequential_search(a, 1001)\n",
    "print(pos)"
   ]
  },
  {
   "cell_type": "markdown",
   "metadata": {
    "slideshow": {
     "slide_type": "slide"
    }
   },
   "source": [
    "* We need not write `sequential_search(a, s)` in Python.\n",
    "\n",
    "* If `a` is a list, we can use `a.index(s)` instead.\n",
    "\n",
    "* In fact that's what we should do, because it is way faster (we saw that also in Chapter 7)."
   ]
  },
  {
   "cell_type": "markdown",
   "metadata": {
    "slideshow": {
     "slide_type": "slide"
    }
   },
   "source": [
    "* Here is the timing for our version:"
   ]
  },
  {
   "cell_type": "code",
   "execution_count": 3,
   "metadata": {
    "slideshow": {
     "slide_type": "fragment"
    }
   },
   "outputs": [
    {
     "name": "stdout",
     "output_type": "stream",
     "text": [
      "0.03652806024183519\n"
     ]
    }
   ],
   "source": [
    "import timeit\n",
    "\n",
    "total_elapsed = 0\n",
    "for i in range(100):\n",
    "    a = list(range(10000))\n",
    "    random.shuffle(a)\n",
    "    start = timeit.default_timer()\n",
    "    index = sequential_search(a, 314)\n",
    "    end = timeit.default_timer()\n",
    "    total_elapsed += end - start\n",
    "print(total_elapsed)"
   ]
  },
  {
   "cell_type": "markdown",
   "metadata": {
    "slideshow": {
     "slide_type": "slide"
    }
   },
   "source": [
    "* And here is the timing for the native version (which actually calls a function written in C):"
   ]
  },
  {
   "cell_type": "code",
   "execution_count": 4,
   "metadata": {
    "slideshow": {
     "slide_type": "fragment"
    }
   },
   "outputs": [
    {
     "name": "stdout",
     "output_type": "stream",
     "text": [
      "0.014140260143904015\n"
     ]
    }
   ],
   "source": [
    "total_elapsed = 0\n",
    "for i in range(100):\n",
    "    a = list(range(10000))\n",
    "    random.shuffle(a)\n",
    "    start = timeit.default_timer()\n",
    "    index = a.index(314)\n",
    "    end = timeit.default_timer()\n",
    "    total_elapsed += end - start\n",
    "\n",
    "print(total_elapsed)"
   ]
  },
  {
   "cell_type": "markdown",
   "metadata": {
    "slideshow": {
     "slide_type": "slide"
    }
   },
   "source": [
    "# Matching, Comparing, Records, Keys\n",
    "\n",
    "* When we are searching for an item in the list, Python performs an equality test between each item and the item we are searching for.\n",
    "\n",
    "* The equality test is performed with the operator `==`.\n",
    "\n",
    "* Checking for equality is not the same as checking whether two items are the *same*.\n",
    "\n",
    "* This is called `identity checking` and in Python it is implemented with the operator `is`."
   ]
  },
  {
   "cell_type": "markdown",
   "metadata": {
    "slideshow": {
     "slide_type": "slide"
    }
   },
   "source": [
    "* That means that the following two are equal:"
   ]
  },
  {
   "cell_type": "code",
   "execution_count": 5,
   "metadata": {
    "slideshow": {
     "slide_type": "slide"
    }
   },
   "outputs": [
    {
     "data": {
      "text/plain": [
       "True"
      ]
     },
     "execution_count": 5,
     "metadata": {},
     "output_type": "execute_result"
    }
   ],
   "source": [
    "an_item = (1, 2)\n",
    "\n",
    "another_item = (1, 2)\n",
    "\n",
    "an_item == another_item"
   ]
  },
  {
   "cell_type": "markdown",
   "metadata": {
    "slideshow": {
     "slide_type": "slide"
    }
   },
   "source": [
    "* But they are not the same:"
   ]
  },
  {
   "cell_type": "code",
   "execution_count": 6,
   "metadata": {
    "slideshow": {
     "slide_type": "fragment"
    }
   },
   "outputs": [
    {
     "data": {
      "text/plain": [
       "False"
      ]
     },
     "execution_count": 6,
     "metadata": {},
     "output_type": "execute_result"
    }
   ],
   "source": [
    "an_item is another_item"
   ]
  },
  {
   "cell_type": "markdown",
   "metadata": {
    "slideshow": {
     "slide_type": "slide"
    }
   },
   "source": [
    "* As another example, let's see what happens with Python's support for complex numbers:"
   ]
  },
  {
   "cell_type": "code",
   "execution_count": 7,
   "metadata": {
    "slideshow": {
     "slide_type": "fragment"
    }
   },
   "outputs": [
    {
     "name": "stdout",
     "output_type": "stream",
     "text": [
      "True\n",
      "False\n"
     ]
    }
   ],
   "source": [
    "x = 3.14+1.62j\n",
    "y = 3.14+1.62j\n",
    "print(x == y)\n",
    "print(x is y)"
   ]
  },
  {
   "cell_type": "markdown",
   "metadata": {
    "slideshow": {
     "slide_type": "slide"
    }
   },
   "source": [
    "* Identity checking is must faster than equality checking, but it is not what we usually want to use.\n",
    "\n",
    "* A common idiom for identity checking in Python is checking for `None`, like `if a is None` or `if a is not None`."
   ]
  },
  {
   "cell_type": "markdown",
   "metadata": {
    "slideshow": {
     "slide_type": "slide"
    }
   },
   "source": [
    "* In many cases, we hold information for entities in *records*, which are collections of *attributes*.\n",
    "\n",
    "* In that case, we want to search for an entity based on a particular attribute that identifies it.\n",
    "\n",
    "* The attribute is called a *key*."
   ]
  },
  {
   "cell_type": "markdown",
   "metadata": {
    "slideshow": {
     "slide_type": "slide"
    }
   },
   "source": [
    "* In Python we can represent records as *objects* that are instances of a class.\n",
    "\n",
    "* Alternatively, we can represent them as dictionaries.\n",
    "\n",
    "* In fact, Python objects use dictionaries internally.\n",
    "\n",
    "* Let's get a list of two persons."
   ]
  },
  {
   "cell_type": "code",
   "execution_count": 8,
   "metadata": {
    "collapsed": true,
    "slideshow": {
     "slide_type": "slide"
    }
   },
   "outputs": [],
   "source": [
    "john = {\n",
    "    'first_name': 'John',\n",
    "    'surname': 'Doe',\n",
    "    'passport_no': 'AI892495',\n",
    "    'year_of_birth': 1990,\n",
    "    'occupation': 'teacher'\n",
    "}\n",
    "\n",
    "jane = {\n",
    "    'first_name': 'Jane',\n",
    "    'surname': 'Roe',\n",
    "    'passport_no': 'AI485713',\n",
    "    'year_of_birth': 1986,\n",
    "    'occupation': 'civil engineer'\n",
    "}\n",
    "\n",
    "persons = [john, jane]"
   ]
  },
  {
   "cell_type": "markdown",
   "metadata": {
    "slideshow": {
     "slide_type": "slide"
    }
   },
   "source": [
    "* In this example, the key for our search would be the passport number, because we would like to find the full information for a person with that particular piece of identification.\n",
    "\n",
    "* To do that we could re-implement sequential search so that we provide to it the comparison function."
   ]
  },
  {
   "cell_type": "code",
   "execution_count": 9,
   "metadata": {
    "slideshow": {
     "slide_type": "fragment"
    }
   },
   "outputs": [
    {
     "name": "stdout",
     "output_type": "stream",
     "text": [
      "{'first_name': 'Jane', 'surname': 'Roe', 'passport_no': 'AI485713', 'year_of_birth': 1986, 'occupation': 'civil engineer'} found at 1\n"
     ]
    }
   ],
   "source": [
    "def sequential_search_m(a, s, matches):\n",
    "    for i, element in enumerate(a):\n",
    "        if matches(element, s):\n",
    "            return i\n",
    "    return -1\n",
    "\n",
    "def match_passport(person, passport_no):\n",
    "    return person['passport_no'] == passport_no\n",
    "\n",
    "pos = sequential_search_m(persons, 'AI485713', match_passport)\n",
    "print(persons[pos], 'found at', pos)"
   ]
  },
  {
   "cell_type": "markdown",
   "metadata": {
    "slideshow": {
     "slide_type": "slide"
    }
   },
   "source": [
    "* Although you would probably use something more Pythonic like:"
   ]
  },
  {
   "cell_type": "code",
   "execution_count": 10,
   "metadata": {
    "slideshow": {
     "slide_type": "fragment"
    }
   },
   "outputs": [
    {
     "data": {
      "text/plain": [
       "[(1,\n",
       "  {'first_name': 'Jane',\n",
       "   'occupation': 'civil engineer',\n",
       "   'passport_no': 'AI485713',\n",
       "   'surname': 'Roe',\n",
       "   'year_of_birth': 1986})]"
      ]
     },
     "execution_count": 10,
     "metadata": {},
     "output_type": "execute_result"
    }
   ],
   "source": [
    "results = [(i, p) for i, p in enumerate(persons) if p['passport_no'] == 'AI485713']\n",
    "results"
   ]
  },
  {
   "cell_type": "markdown",
   "metadata": {
    "slideshow": {
     "slide_type": "slide"
    }
   },
   "source": [
    "## Self-Organizing Search\n",
    "\n",
    "* In self-organizing search, we take advantage of an item's popularity to move it to the front of the collection in which we are performing our searches.\n",
    "\n",
    "* In the move-to-front method, when we find an item we move it directly to the front.\n",
    "\n",
    "* In the transposition method, when we find an item we swap it with its predecessor (if any)."
   ]
  },
  {
   "cell_type": "markdown",
   "metadata": {
    "slideshow": {
     "slide_type": "slide"
    }
   },
   "source": [
    "* We cannot implement directly the algorithms for lists given in the book (that is, algorithm 11.2 and algorithm 11.3) for the simple reason that Python hides the list implementation from us.\n",
    "\n",
    "* Moreover, Python lists are *not* linked lists. They are variable-length arrays (see the online documentation for details on the [implementation of lists in Python](https://docs.python.org/3/faq/design.html#how-are-lists-implemented)).\n",
    "\n",
    "* We can implement algorithm 11.3, which is the transposition method for arrays."
   ]
  },
  {
   "cell_type": "code",
   "execution_count": 11,
   "metadata": {
    "collapsed": true,
    "slideshow": {
     "slide_type": "slide"
    }
   },
   "outputs": [],
   "source": [
    "def transposition_search(a, s):\n",
    "    for i, item in enumerate(a):\n",
    "        if item == s:\n",
    "            if i > 0:\n",
    "                a[i-1], a[i] = a[i], a[i-1]\n",
    "                return i-1\n",
    "            else:\n",
    "                return i\n",
    "    return -1"
   ]
  },
  {
   "cell_type": "markdown",
   "metadata": {
    "slideshow": {
     "slide_type": "slide"
    }
   },
   "source": [
    "* How can we test `transposition_search(a, s)`?\n",
    "\n",
    "* We need to do some groundwork to emulate a situation of popularity-biased searches.\n",
    "\n",
    "* In particular, we will create a setting where the items we are searching for are governed by Zipf's law.\n",
    "\n",
    "* First, we'll write a function that provides the Zipf probability for $n$ items."
   ]
  },
  {
   "cell_type": "code",
   "execution_count": 12,
   "metadata": {
    "collapsed": true,
    "slideshow": {
     "slide_type": "slide"
    }
   },
   "outputs": [],
   "source": [
    "def zipf(n):\n",
    "    h = 0\n",
    "    for x in range(1, n+1):\n",
    "        h += 1/x\n",
    "    z = [ 1/x * 1/h for x in range(1, n+1) ]\n",
    "    return z"
   ]
  },
  {
   "cell_type": "markdown",
   "metadata": {
    "slideshow": {
     "slide_type": "slide"
    }
   },
   "source": [
    "* We'll work with 1000 items:"
   ]
  },
  {
   "cell_type": "code",
   "execution_count": 13,
   "metadata": {
    "slideshow": {
     "slide_type": "fragment"
    }
   },
   "outputs": [],
   "source": [
    "zipf_1000 = zipf(1000)"
   ]
  },
  {
   "cell_type": "markdown",
   "metadata": {
    "slideshow": {
     "slide_type": "slide"
    }
   },
   "source": [
    "* We can check that they sum up to 1, and see the first 20 of the probabilities."
   ]
  },
  {
   "cell_type": "code",
   "execution_count": 14,
   "metadata": {
    "slideshow": {
     "slide_type": "fragment"
    }
   },
   "outputs": [
    {
     "name": "stdout",
     "output_type": "stream",
     "text": [
      "1.0000000000000018\n",
      "[0.13359213049244018, 0.06679606524622009, 0.044530710164146725, 0.033398032623110044, 0.026718426098488037, 0.022265355082073363, 0.019084590070348597, 0.016699016311555022, 0.014843570054715576, 0.013359213049244019, 0.012144739135676381, 0.011132677541036681, 0.010276317730187707, 0.009542295035174298, 0.008906142032829346, 0.008349508155777511, 0.007858360617202364, 0.007421785027357788, 0.007031164762760009, 0.006679606524622009]\n"
     ]
    }
   ],
   "source": [
    "print(sum(zipf_1000))\n",
    "print(zipf_1000[:20])"
   ]
  },
  {
   "cell_type": "markdown",
   "metadata": {
    "slideshow": {
     "slide_type": "slide"
    }
   },
   "source": [
    "* Again we will be performing our searches on 1000 items, in random order."
   ]
  },
  {
   "cell_type": "code",
   "execution_count": 15,
   "metadata": {
    "slideshow": {
     "slide_type": "fragment"
    }
   },
   "outputs": [
    {
     "name": "stdout",
     "output_type": "stream",
     "text": [
      "[824, 941, 606, 334, 421, 531, 899, 856, 714, 752, 389, 721, 749, 56, 196, 182, 787, 705, 937, 780]\n"
     ]
    }
   ],
   "source": [
    "a = list(range(1000))\n",
    "random.shuffle(a)\n",
    "print(a[:20])"
   ]
  },
  {
   "cell_type": "markdown",
   "metadata": {
    "slideshow": {
     "slide_type": "slide"
    }
   },
   "source": [
    "* We will perform 1000 searches among these items.\n",
    "\n",
    "* We want the searches to follow Zipf's law.\n",
    "\n",
    "* First, we will create another list of 1000 items in random order."
   ]
  },
  {
   "cell_type": "code",
   "execution_count": 16,
   "metadata": {
    "slideshow": {
     "slide_type": "fragment"
    }
   },
   "outputs": [
    {
     "name": "stdout",
     "output_type": "stream",
     "text": [
      "[331, 748, 197, 270, 978, 46, 134, 29, 899, 21, 802, 925, 454, 234, 230, 147, 37, 121, 453, 119]\n"
     ]
    }
   ],
   "source": [
    "b = list(range(1000))\n",
    "random.shuffle(b)\n",
    "print(b[:20])"
   ]
  },
  {
   "cell_type": "markdown",
   "metadata": {
    "slideshow": {
     "slide_type": "slide"
    }
   },
   "source": [
    "* Then, we will select 100000 items from the second list, using the Zipf probabilities.\n",
    "\n",
    "* That means that we will be selecting the first item with probability `zipf_1000[0]`, the second item with probability `zipf_1000[1]`, and so on.\n"
   ]
  },
  {
   "cell_type": "code",
   "execution_count": 17,
   "metadata": {
    "slideshow": {
     "slide_type": "fragment"
    }
   },
   "outputs": [],
   "source": [
    "searches = random.choices(b, weights=zipf_1000, k=100000)"
   ]
  },
  {
   "cell_type": "markdown",
   "metadata": {
    "slideshow": {
     "slide_type": "slide"
    }
   },
   "source": [
    "* Indeed, we can verify that the popularity of items in `searches` mirrors `b`:"
   ]
  },
  {
   "cell_type": "code",
   "execution_count": 18,
   "metadata": {
    "slideshow": {
     "slide_type": "fragment"
    }
   },
   "outputs": [
    {
     "data": {
      "text/plain": [
       "[(331, 13389),\n",
       " (748, 6737),\n",
       " (197, 4464),\n",
       " (270, 3270),\n",
       " (978, 2606),\n",
       " (46, 2291),\n",
       " (134, 1826),\n",
       " (29, 1739),\n",
       " (899, 1563),\n",
       " (21, 1274),\n",
       " (802, 1219),\n",
       " (925, 1137),\n",
       " (454, 1052),\n",
       " (234, 910),\n",
       " (230, 893),\n",
       " (147, 882),\n",
       " (37, 788),\n",
       " (121, 726),\n",
       " (453, 710),\n",
       " (119, 668)]"
      ]
     },
     "execution_count": 18,
     "metadata": {},
     "output_type": "execute_result"
    }
   ],
   "source": [
    "from collections import Counter\n",
    "\n",
    "counted = Counter(searches)\n",
    "counted.most_common(20)\n"
   ]
  },
  {
   "cell_type": "markdown",
   "metadata": {
    "slideshow": {
     "slide_type": "slide"
    }
   },
   "source": [
    "* So, we will perform 100000 searches in the first list, using as keys the items in `searches`.\n",
    "\n",
    "* Because `transposition_search(a, s)` changes `a`, we will keep a copy of it to use it to compare the performance with simple sequential search.\n",
    "\n",
    "* At the end, apart from displaying the time elapsed we will also show the first items of the changed `a`, to see how popular searches have gone to the beginning."
   ]
  },
  {
   "cell_type": "code",
   "execution_count": 19,
   "metadata": {
    "slideshow": {
     "slide_type": "slide"
    }
   },
   "outputs": [
    {
     "name": "stdout",
     "output_type": "stream",
     "text": [
      "1.8748526353447232\n",
      "[748, 331, 270, 197, 978, 29, 899, 46, 147, 134, 802, 21, 234, 925, 230, 121, 454, 934, 158, 716]\n"
     ]
    }
   ],
   "source": [
    "a_copy = a[:]\n",
    "\n",
    "total_elapsed = 0\n",
    "for s in searches:\n",
    "    start = timeit.default_timer()\n",
    "    index = transposition_search(a, s)\n",
    "    end = timeit.default_timer()\n",
    "    total_elapsed += end - start\n",
    "\n",
    "print(total_elapsed)\n",
    "print(a[:20])"
   ]
  },
  {
   "cell_type": "markdown",
   "metadata": {
    "slideshow": {
     "slide_type": "slide"
    }
   },
   "source": [
    "* We will now perform the same searches with `a_copy` using simple sequential search."
   ]
  },
  {
   "cell_type": "code",
   "execution_count": 21,
   "metadata": {
    "slideshow": {
     "slide_type": "slide"
    }
   },
   "outputs": [
    {
     "name": "stdout",
     "output_type": "stream",
     "text": [
      "3.336524669721257\n"
     ]
    }
   ],
   "source": [
    "total_elapsed = 0\n",
    "for s in searches:\n",
    "    start = timeit.default_timer()\n",
    "    index = sequential_search(a_copy, s)\n",
    "    end = timeit.default_timer()\n",
    "    total_elapsed += end - start\n",
    "\n",
    "print(total_elapsed)"
   ]
  },
  {
   "cell_type": "markdown",
   "metadata": {},
   "source": [
    "# The Secretary Problem"
   ]
  },
  {
   "cell_type": "code",
   "execution_count": null,
   "metadata": {
    "collapsed": true
   },
   "outputs": [],
   "source": []
  }
 ],
 "metadata": {
  "celltoolbar": "Slideshow",
  "kernelspec": {
   "display_name": "Python 3",
   "language": "python",
   "name": "python3"
  },
  "language_info": {
   "codemirror_mode": {
    "name": "ipython",
    "version": 3
   },
   "file_extension": ".py",
   "mimetype": "text/x-python",
   "name": "python",
   "nbconvert_exporter": "python",
   "pygments_lexer": "ipython3",
   "version": "3.6.1"
  }
 },
 "nbformat": 4,
 "nbformat_minor": 1
}
